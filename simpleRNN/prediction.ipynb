{
 "cells": [
  {
   "cell_type": "code",
   "execution_count": 22,
   "id": "2e5fdd0f",
   "metadata": {},
   "outputs": [],
   "source": [
    "# Step 1: Import Libraries and Load the Model\n",
    "import numpy as np\n",
    "import tensorflow as tf\n",
    "from tensorflow.keras.datasets import imdb\n",
    "from tensorflow.keras.preprocessing import sequence\n",
    "from tensorflow.keras.models import load_model"
   ]
  },
  {
   "cell_type": "code",
   "execution_count": 23,
   "id": "be420036",
   "metadata": {},
   "outputs": [],
   "source": [
    "\n",
    "# Load the IMDB dataset word index\n",
    "word_index = imdb.get_word_index()\n",
    "reverse_word_index = {value: key for key, value in word_index.items()}"
   ]
  },
  {
   "cell_type": "code",
   "execution_count": 24,
   "id": "d3b12607",
   "metadata": {},
   "outputs": [
    {
     "name": "stderr",
     "output_type": "stream",
     "text": [
      "WARNING:absl:Compiled the loaded model, but the compiled metrics have yet to be built. `model.compile_metrics` will be empty until you train or evaluate the model.\n"
     ]
    },
    {
     "data": {
      "text/html": [
       "<pre style=\"white-space:pre;overflow-x:auto;line-height:normal;font-family:Menlo,'DejaVu Sans Mono',consolas,'Courier New',monospace\"><span style=\"font-weight: bold\">Model: \"sequential_1\"</span>\n",
       "</pre>\n"
      ],
      "text/plain": [
       "\u001b[1mModel: \"sequential_1\"\u001b[0m\n"
      ]
     },
     "metadata": {},
     "output_type": "display_data"
    },
    {
     "data": {
      "text/html": [
       "<pre style=\"white-space:pre;overflow-x:auto;line-height:normal;font-family:Menlo,'DejaVu Sans Mono',consolas,'Courier New',monospace\">┏━━━━━━━━━━━━━━━━━━━━━━━━━━━━━━━━━┳━━━━━━━━━━━━━━━━━━━━━━━━┳━━━━━━━━━━━━━━━┓\n",
       "┃<span style=\"font-weight: bold\"> Layer (type)                    </span>┃<span style=\"font-weight: bold\"> Output Shape           </span>┃<span style=\"font-weight: bold\">       Param # </span>┃\n",
       "┡━━━━━━━━━━━━━━━━━━━━━━━━━━━━━━━━━╇━━━━━━━━━━━━━━━━━━━━━━━━╇━━━━━━━━━━━━━━━┩\n",
       "│ embedding_1 (<span style=\"color: #0087ff; text-decoration-color: #0087ff\">Embedding</span>)         │ (<span style=\"color: #00af00; text-decoration-color: #00af00\">32</span>, <span style=\"color: #00af00; text-decoration-color: #00af00\">500</span>, <span style=\"color: #00af00; text-decoration-color: #00af00\">32</span>)          │       <span style=\"color: #00af00; text-decoration-color: #00af00\">320,000</span> │\n",
       "├─────────────────────────────────┼────────────────────────┼───────────────┤\n",
       "│ simple_rnn_1 (<span style=\"color: #0087ff; text-decoration-color: #0087ff\">SimpleRNN</span>)        │ (<span style=\"color: #00af00; text-decoration-color: #00af00\">32</span>, <span style=\"color: #00af00; text-decoration-color: #00af00\">128</span>)              │        <span style=\"color: #00af00; text-decoration-color: #00af00\">20,608</span> │\n",
       "├─────────────────────────────────┼────────────────────────┼───────────────┤\n",
       "│ dense_1 (<span style=\"color: #0087ff; text-decoration-color: #0087ff\">Dense</span>)                 │ (<span style=\"color: #00af00; text-decoration-color: #00af00\">32</span>, <span style=\"color: #00af00; text-decoration-color: #00af00\">1</span>)                │           <span style=\"color: #00af00; text-decoration-color: #00af00\">129</span> │\n",
       "└─────────────────────────────────┴────────────────────────┴───────────────┘\n",
       "</pre>\n"
      ],
      "text/plain": [
       "┏━━━━━━━━━━━━━━━━━━━━━━━━━━━━━━━━━┳━━━━━━━━━━━━━━━━━━━━━━━━┳━━━━━━━━━━━━━━━┓\n",
       "┃\u001b[1m \u001b[0m\u001b[1mLayer (type)                   \u001b[0m\u001b[1m \u001b[0m┃\u001b[1m \u001b[0m\u001b[1mOutput Shape          \u001b[0m\u001b[1m \u001b[0m┃\u001b[1m \u001b[0m\u001b[1m      Param #\u001b[0m\u001b[1m \u001b[0m┃\n",
       "┡━━━━━━━━━━━━━━━━━━━━━━━━━━━━━━━━━╇━━━━━━━━━━━━━━━━━━━━━━━━╇━━━━━━━━━━━━━━━┩\n",
       "│ embedding_1 (\u001b[38;5;33mEmbedding\u001b[0m)         │ (\u001b[38;5;34m32\u001b[0m, \u001b[38;5;34m500\u001b[0m, \u001b[38;5;34m32\u001b[0m)          │       \u001b[38;5;34m320,000\u001b[0m │\n",
       "├─────────────────────────────────┼────────────────────────┼───────────────┤\n",
       "│ simple_rnn_1 (\u001b[38;5;33mSimpleRNN\u001b[0m)        │ (\u001b[38;5;34m32\u001b[0m, \u001b[38;5;34m128\u001b[0m)              │        \u001b[38;5;34m20,608\u001b[0m │\n",
       "├─────────────────────────────────┼────────────────────────┼───────────────┤\n",
       "│ dense_1 (\u001b[38;5;33mDense\u001b[0m)                 │ (\u001b[38;5;34m32\u001b[0m, \u001b[38;5;34m1\u001b[0m)                │           \u001b[38;5;34m129\u001b[0m │\n",
       "└─────────────────────────────────┴────────────────────────┴───────────────┘\n"
      ]
     },
     "metadata": {},
     "output_type": "display_data"
    },
    {
     "data": {
      "text/html": [
       "<pre style=\"white-space:pre;overflow-x:auto;line-height:normal;font-family:Menlo,'DejaVu Sans Mono',consolas,'Courier New',monospace\"><span style=\"font-weight: bold\"> Total params: </span><span style=\"color: #00af00; text-decoration-color: #00af00\">340,739</span> (1.30 MB)\n",
       "</pre>\n"
      ],
      "text/plain": [
       "\u001b[1m Total params: \u001b[0m\u001b[38;5;34m340,739\u001b[0m (1.30 MB)\n"
      ]
     },
     "metadata": {},
     "output_type": "display_data"
    },
    {
     "data": {
      "text/html": [
       "<pre style=\"white-space:pre;overflow-x:auto;line-height:normal;font-family:Menlo,'DejaVu Sans Mono',consolas,'Courier New',monospace\"><span style=\"font-weight: bold\"> Trainable params: </span><span style=\"color: #00af00; text-decoration-color: #00af00\">340,737</span> (1.30 MB)\n",
       "</pre>\n"
      ],
      "text/plain": [
       "\u001b[1m Trainable params: \u001b[0m\u001b[38;5;34m340,737\u001b[0m (1.30 MB)\n"
      ]
     },
     "metadata": {},
     "output_type": "display_data"
    },
    {
     "data": {
      "text/html": [
       "<pre style=\"white-space:pre;overflow-x:auto;line-height:normal;font-family:Menlo,'DejaVu Sans Mono',consolas,'Courier New',monospace\"><span style=\"font-weight: bold\"> Non-trainable params: </span><span style=\"color: #00af00; text-decoration-color: #00af00\">0</span> (0.00 B)\n",
       "</pre>\n"
      ],
      "text/plain": [
       "\u001b[1m Non-trainable params: \u001b[0m\u001b[38;5;34m0\u001b[0m (0.00 B)\n"
      ]
     },
     "metadata": {},
     "output_type": "display_data"
    },
    {
     "data": {
      "text/html": [
       "<pre style=\"white-space:pre;overflow-x:auto;line-height:normal;font-family:Menlo,'DejaVu Sans Mono',consolas,'Courier New',monospace\"><span style=\"font-weight: bold\"> Optimizer params: </span><span style=\"color: #00af00; text-decoration-color: #00af00\">2</span> (12.00 B)\n",
       "</pre>\n"
      ],
      "text/plain": [
       "\u001b[1m Optimizer params: \u001b[0m\u001b[38;5;34m2\u001b[0m (12.00 B)\n"
      ]
     },
     "metadata": {},
     "output_type": "display_data"
    }
   ],
   "source": [
    "# Load the pre-trained model with ReLU activation\n",
    "model = load_model('simple_rnn_imdb.h5')\n",
    "model.summary()"
   ]
  },
  {
   "cell_type": "code",
   "execution_count": 25,
   "id": "299709bb",
   "metadata": {},
   "outputs": [
    {
     "data": {
      "text/plain": [
       "[array([[ 0.0873834 ,  0.03573815, -0.05457141, ..., -0.05985708,\n",
       "         -0.0545893 , -0.11053837],\n",
       "        [ 0.01241679,  0.03736621,  0.01286819, ..., -0.01222469,\n",
       "          0.01492599, -0.01824913],\n",
       "        [ 0.079133  ,  0.07862393, -0.0464584 , ...,  0.06039995,\n",
       "         -0.01335144, -0.0609775 ],\n",
       "        ...,\n",
       "        [-0.02210592,  0.04264026, -0.02101138, ..., -0.00257   ,\n",
       "          0.04721459, -0.03569411],\n",
       "        [-0.09128828, -0.07570367,  0.01633094, ..., -0.11182804,\n",
       "         -0.03247118,  0.06965495],\n",
       "        [ 0.05002308,  0.11682283, -0.07483006, ...,  0.13983336,\n",
       "          0.15307042,  0.01844869]], dtype=float32),\n",
       " array([[ 0.02186148,  0.02027137,  0.09779101, ...,  0.00537726,\n",
       "         -0.09023767, -0.091547  ],\n",
       "        [-0.11068519, -0.00461353, -0.10778604, ..., -0.1650751 ,\n",
       "          0.04126121, -0.07367986],\n",
       "        [-0.10497667, -0.21021925,  0.17485738, ...,  0.18955047,\n",
       "         -0.13474955, -0.11063545],\n",
       "        ...,\n",
       "        [ 0.07380142,  0.12547632, -0.03445096, ..., -0.15599628,\n",
       "         -0.16471697, -0.11664694],\n",
       "        [ 0.05883975,  0.18090703, -0.14220847, ..., -0.22031541,\n",
       "          0.08671725,  0.23197415],\n",
       "        [ 0.09421016, -0.0179115 , -0.05398623, ...,  0.14135809,\n",
       "          0.0028182 , -0.21724938]], dtype=float32),\n",
       " array([[ 0.01527247,  0.00778938,  0.2650931 , ...,  0.00441662,\n",
       "          0.1033361 , -0.03305895],\n",
       "        [-0.09507133,  0.18551461,  0.04270559, ..., -0.06064836,\n",
       "          0.07184739,  0.211542  ],\n",
       "        [-0.09619924,  0.11588284, -0.03530144, ..., -0.05135584,\n",
       "         -0.23791467,  0.02212979],\n",
       "        ...,\n",
       "        [ 0.17963473, -0.11015747, -0.00042544, ...,  0.04622066,\n",
       "         -0.08817919, -0.02417988],\n",
       "        [ 0.03180338, -0.00494094, -0.02693971, ...,  0.07552048,\n",
       "         -0.0493233 , -0.03519286],\n",
       "        [-0.09263438, -0.00759357, -0.19284648, ..., -0.11317059,\n",
       "         -0.06466822,  0.2474852 ]], dtype=float32),\n",
       " array([-0.00864348, -0.00210395, -0.02916467, -0.0501933 ,  0.0134703 ,\n",
       "         0.0650179 ,  0.00287397, -0.01417539, -0.05236158, -0.01066989,\n",
       "        -0.00558321, -0.0216812 , -0.04235566,  0.01038712, -0.02391203,\n",
       "        -0.01992746, -0.05902461,  0.03845027, -0.02611058, -0.01524872,\n",
       "        -0.04818425,  0.05807647,  0.00098628, -0.0121517 , -0.03392745,\n",
       "         0.0223148 ,  0.02243133, -0.03004696,  0.01501825, -0.00288461,\n",
       "        -0.02614657, -0.02051268,  0.00875228, -0.06455941, -0.01485717,\n",
       "        -0.02628729, -0.02966995,  0.05377729,  0.00186379,  0.02327958,\n",
       "         0.03096786, -0.03216007,  0.03256132,  0.01724831, -0.00235663,\n",
       "        -0.00053622, -0.01334276,  0.00137668, -0.04011156,  0.0310328 ,\n",
       "        -0.00071342,  0.0033502 , -0.03652432, -0.01902132, -0.03688398,\n",
       "        -0.02783228,  0.02711517, -0.01120959,  0.00157145,  0.01271045,\n",
       "        -0.05283704, -0.02117123, -0.03979731, -0.00609084,  0.03741801,\n",
       "        -0.01804086, -0.02257501, -0.00120126, -0.0511159 , -0.01109075,\n",
       "        -0.01467287,  0.01683238, -0.02197241, -0.0243585 , -0.02809711,\n",
       "        -0.03695852,  0.00374193, -0.0282324 , -0.03323921,  0.00355463,\n",
       "        -0.01245461,  0.00502173, -0.04446781,  0.04276977,  0.04685846,\n",
       "        -0.05555072,  0.01052552, -0.00209057, -0.03107102, -0.00567597,\n",
       "        -0.00223716, -0.02463243, -0.00599996, -0.04062727,  0.05045096,\n",
       "        -0.03209819, -0.00248668, -0.02087775, -0.0349136 , -0.03128227,\n",
       "        -0.00311122,  0.00259395, -0.04951028, -0.02593956, -0.00470409,\n",
       "        -0.03370184, -0.04379898, -0.04713426,  0.02697609, -0.03344914,\n",
       "        -0.02330316,  0.0042524 , -0.01204019, -0.01987213, -0.05373817,\n",
       "        -0.04580304, -0.03534892, -0.01767788, -0.03697704, -0.06828227,\n",
       "         0.05674006, -0.01874037, -0.02174521,  0.04255042, -0.00831631,\n",
       "        -0.04841308, -0.0245118 ,  0.05441434], dtype=float32),\n",
       " array([[-0.12644644],\n",
       "        [ 0.2059822 ],\n",
       "        [ 0.11576594],\n",
       "        [-0.02865759],\n",
       "        [-0.02481331],\n",
       "        [ 0.26083094],\n",
       "        [ 0.20950858],\n",
       "        [-0.04275527],\n",
       "        [-0.04346547],\n",
       "        [ 0.07916657],\n",
       "        [ 0.13178822],\n",
       "        [-0.0882189 ],\n",
       "        [-0.01381673],\n",
       "        [ 0.03397935],\n",
       "        [-0.04302962],\n",
       "        [ 0.1159949 ],\n",
       "        [ 0.15054713],\n",
       "        [-0.05871717],\n",
       "        [ 0.24552827],\n",
       "        [ 0.00290817],\n",
       "        [-0.17272018],\n",
       "        [ 0.17548507],\n",
       "        [ 0.11448336],\n",
       "        [-0.05761091],\n",
       "        [ 0.38977996],\n",
       "        [ 0.12284704],\n",
       "        [-0.35224938],\n",
       "        [ 0.01121636],\n",
       "        [-0.18422416],\n",
       "        [ 0.12905318],\n",
       "        [ 0.23525713],\n",
       "        [-0.12528351],\n",
       "        [ 0.08335471],\n",
       "        [-0.06666552],\n",
       "        [ 0.17144717],\n",
       "        [-0.25159302],\n",
       "        [-0.11904071],\n",
       "        [ 0.23735532],\n",
       "        [-0.18111852],\n",
       "        [-0.08617168],\n",
       "        [ 0.15055396],\n",
       "        [-0.11497998],\n",
       "        [-0.00745054],\n",
       "        [-0.20809342],\n",
       "        [-0.10509852],\n",
       "        [ 0.12180773],\n",
       "        [ 0.2230119 ],\n",
       "        [-0.0233649 ],\n",
       "        [-0.16896325],\n",
       "        [-0.05358379],\n",
       "        [ 0.18220015],\n",
       "        [ 0.09883731],\n",
       "        [ 0.2304043 ],\n",
       "        [ 0.02752192],\n",
       "        [-0.06862248],\n",
       "        [ 1.1763167 ],\n",
       "        [ 0.02634901],\n",
       "        [ 0.16984567],\n",
       "        [ 0.07510459],\n",
       "        [-0.14680497],\n",
       "        [-0.19292572],\n",
       "        [-0.08979765],\n",
       "        [-0.1324201 ],\n",
       "        [-0.04091455],\n",
       "        [-0.09926587],\n",
       "        [ 0.15756083],\n",
       "        [ 0.18525074],\n",
       "        [ 0.22702862],\n",
       "        [ 0.02471917],\n",
       "        [-0.09959447],\n",
       "        [-0.19037543],\n",
       "        [ 0.03455209],\n",
       "        [ 0.09038784],\n",
       "        [-0.07594451],\n",
       "        [ 0.06919914],\n",
       "        [-0.81907666],\n",
       "        [-0.01572734],\n",
       "        [ 0.03129669],\n",
       "        [-0.08711457],\n",
       "        [ 0.14548704],\n",
       "        [-0.18809125],\n",
       "        [-0.22257075],\n",
       "        [-0.2545771 ],\n",
       "        [ 0.02447143],\n",
       "        [ 0.0288071 ],\n",
       "        [-0.01266285],\n",
       "        [-0.19168681],\n",
       "        [ 0.2848688 ],\n",
       "        [-0.20255151],\n",
       "        [ 0.05038509],\n",
       "        [ 0.134168  ],\n",
       "        [ 0.17879422],\n",
       "        [-0.01971139],\n",
       "        [ 0.8391345 ],\n",
       "        [-0.02783955],\n",
       "        [-0.0404772 ],\n",
       "        [ 0.16848302],\n",
       "        [ 0.07752952],\n",
       "        [-0.05090023],\n",
       "        [-0.02358678],\n",
       "        [-0.06193642],\n",
       "        [ 0.01989073],\n",
       "        [ 0.03846957],\n",
       "        [-0.18845522],\n",
       "        [-0.22090238],\n",
       "        [-0.08696809],\n",
       "        [ 0.11398157],\n",
       "        [ 0.15544342],\n",
       "        [ 0.09906891],\n",
       "        [-0.16716519],\n",
       "        [-0.37636474],\n",
       "        [ 0.09923372],\n",
       "        [-0.2567963 ],\n",
       "        [ 0.1760652 ],\n",
       "        [-0.091475  ],\n",
       "        [ 0.06096876],\n",
       "        [ 0.11324181],\n",
       "        [ 0.18956569],\n",
       "        [-0.05378862],\n",
       "        [-0.11598265],\n",
       "        [ 0.03795885],\n",
       "        [ 0.181371  ],\n",
       "        [-0.0753203 ],\n",
       "        [ 0.00469087],\n",
       "        [-0.07655589],\n",
       "        [-0.20780155],\n",
       "        [-0.05769863],\n",
       "        [-1.1680918 ]], dtype=float32),\n",
       " array([-1.741652], dtype=float32)]"
      ]
     },
     "execution_count": 25,
     "metadata": {},
     "output_type": "execute_result"
    }
   ],
   "source": [
    "model.get_weights()"
   ]
  },
  {
   "cell_type": "code",
   "execution_count": 26,
   "id": "7279cae3",
   "metadata": {},
   "outputs": [],
   "source": [
    "# Step 2: Helper Functions\n",
    "# Function to decode reviews\n",
    "def decode_review(encoded_review):\n",
    "    return ' '.join([reverse_word_index.get(i - 3, '?') for i in encoded_review])\n",
    "\n",
    "# Function to preprocess user input\n",
    "def preprocess_text(text):\n",
    "    words = text.lower().split()\n",
    "    encoded_review = [word_index.get(word, 2) + 3 for word in words]\n",
    "    padded_review = sequence.pad_sequences([encoded_review], maxlen=500)\n",
    "    return padded_review"
   ]
  },
  {
   "cell_type": "code",
   "execution_count": 27,
   "id": "791ffbca",
   "metadata": {},
   "outputs": [],
   "source": [
    "### Prediction  function\n",
    "\n",
    "def predict_sentiment(review):\n",
    "    preprocessed_input=preprocess_text(review)\n",
    "\n",
    "    prediction=model.predict(preprocessed_input)\n",
    "\n",
    "    sentiment = 'Positive' if prediction[0][0] > 0.5 else 'Negative'\n",
    "    \n",
    "    return sentiment, prediction[0][0]"
   ]
  },
  {
   "cell_type": "code",
   "execution_count": 28,
   "id": "adcc740e",
   "metadata": {},
   "outputs": [
    {
     "name": "stdout",
     "output_type": "stream",
     "text": [
      "\u001b[1m1/1\u001b[0m \u001b[32m━━━━━━━━━━━━━━━━━━━━\u001b[0m\u001b[37m\u001b[0m \u001b[1m0s\u001b[0m 369ms/step\n",
      "Review: This movie was fantastic! The acting was great and the plot was thrilling.\n",
      "Sentiment: Negative\n",
      "Prediction Score: 0.1276789903640747\n"
     ]
    }
   ],
   "source": [
    "# Step 4: User Input and Prediction\n",
    "# Example review for prediction\n",
    "example_review = \"This movie was fantastic! The acting was great and the plot was thrilling.\"\n",
    "\n",
    "sentiment,score=predict_sentiment(example_review)\n",
    "\n",
    "print(f'Review: {example_review}')\n",
    "print(f'Sentiment: {sentiment}')\n",
    "print(f'Prediction Score: {score}')"
   ]
  }
 ],
 "metadata": {
  "kernelspec": {
   "display_name": "tf_env",
   "language": "python",
   "name": "python3"
  },
  "language_info": {
   "codemirror_mode": {
    "name": "ipython",
    "version": 3
   },
   "file_extension": ".py",
   "mimetype": "text/x-python",
   "name": "python",
   "nbconvert_exporter": "python",
   "pygments_lexer": "ipython3",
   "version": "3.9.21"
  }
 },
 "nbformat": 4,
 "nbformat_minor": 5
}
